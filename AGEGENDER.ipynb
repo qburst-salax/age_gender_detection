{
  "nbformat": 4,
  "nbformat_minor": 0,
  "metadata": {
    "colab": {
      "name": "AGEGENDER.ipynb",
      "provenance": [],
      "mount_file_id": "1jHw-oOixikcGNB8QiBzwy8Tl_ISBIGAJ",
      "authorship_tag": "ABX9TyMEo+h2aA45qS37PtD5JVO5",
      "include_colab_link": true
    },
    "kernelspec": {
      "name": "python3",
      "display_name": "Python 3"
    },
    "language_info": {
      "name": "python"
    }
  },
  "cells": [
    {
      "cell_type": "markdown",
      "metadata": {
        "id": "view-in-github",
        "colab_type": "text"
      },
      "source": [
        "<a href=\"https://colab.research.google.com/github/salaxqb/age_gender_detection/blob/main/AGEGENDER.ipynb\" target=\"_parent\"><img src=\"https://colab.research.google.com/assets/colab-badge.svg\" alt=\"Open In Colab\"/></a>"
      ]
    },
    {
      "cell_type": "code",
      "metadata": {
        "id": "brkA-uYSR_ug"
      },
      "source": [
        "import keras\n",
        "import json\n",
        "import sys\n",
        "import tensorflow as tf\n",
        "from keras.layers import Input\n",
        "import numpy as np\n",
        "import argparse\n",
        "from keras.utils.data_utils import get_file\n"
      ],
      "execution_count": null,
      "outputs": []
    },
    {
      "cell_type": "code",
      "metadata": {
        "id": "WlJG-8IvTWZ7"
      },
      "source": [
        "import pandas as pd\n",
        "import matplotlib.pyplot as plt\n",
        "import seaborn as sns\n",
        "import cv2\n",
        "from PIL import Image\n",
        "df=pd.read_csv(\"/content/drive/MyDrive/age_gender.csv\")\n",
        "df.head()\n",
        "df1= pd.DataFrame(df)\n",
        "df1['pixels'] = df1.pixels.apply(lambda x: np.reshape(np.array(x.split(' '),dtype='float32'),(48,48)))\n",
        "df1['pixels']= df1['pixels']/255\n",
        "im = df1['pixels'][1]\n",
        "im\n",
        "plt.imshow(im, cmap='gray')\n",
        "plt.axis('off')"
      ],
      "execution_count": null,
      "outputs": []
    },
    {
      "cell_type": "code",
      "metadata": {
        "id": "PtDr3pp6TfTf"
      },
      "source": [
        "X = np.zeros(shape=(23705,48,48))\n",
        "for i in range(len(df1[\"pixels\"])):\n",
        "    X[i] = df1[\"pixels\"][i]\n",
        "X.dtype\n",
        "ag = df1['age']\n",
        "ag=ag.astype(float)\n",
        "ag= np.array(ag)"
      ],
      "execution_count": null,
      "outputs": []
    },
    {
      "cell_type": "code",
      "metadata": {
        "id": "BwGJ2MWcwGsf"
      },
      "source": [
        "g= df1['gender']\n",
        "g=np.array(g)"
      ],
      "execution_count": null,
      "outputs": []
    },
    {
      "cell_type": "code",
      "metadata": {
        "id": "69Xf529-wH8S"
      },
      "source": [
        "labels_f =[]\n",
        "\n",
        "i=0\n",
        "\n",
        "while i <len(ag):\n",
        "\n",
        "  label=[]\n",
        "\n",
        "  label.append([ag[i]])\n",
        "\n",
        "  label.append([g[i]])\n",
        "\n",
        "  labels_f.append(label)\n",
        "\n",
        "  i+=1\n",
        "\n",
        "labels_f =np.array(labels_f)\n"
      ],
      "execution_count": null,
      "outputs": []
    },
    {
      "cell_type": "code",
      "metadata": {
        "id": "XhjDfNw1yOzS"
      },
      "source": [
        "from sklearn.model_selection import train_test_split"
      ],
      "execution_count": null,
      "outputs": []
    },
    {
      "cell_type": "code",
      "metadata": {
        "id": "IZtF6TH-yXzR"
      },
      "source": [
        "X_train, X_test, Y_train, Y_test= train_test_split(X,labels_f,test_size=0.25)\n"
      ],
      "execution_count": null,
      "outputs": []
    },
    {
      "cell_type": "code",
      "metadata": {
        "id": "qq0gxOmcy99F"
      },
      "source": [
        "Y_train_2=[Y_train[:,1],Y_train[:,0]]\n",
        "Y_test_2=[Y_test[:,1],Y_test[:,0]]"
      ],
      "execution_count": null,
      "outputs": []
    },
    {
      "cell_type": "code",
      "metadata": {
        "id": "cxYPq0Zuzkak"
      },
      "source": [
        "from tensorflow.keras.layers import Dropout\n",
        "\n",
        "from tensorflow.keras.layers import Flatten,BatchNormalization\n",
        "\n",
        "from tensorflow.keras.layers import Dense, MaxPooling2D,Conv2D\n",
        "\n",
        "from tensorflow.keras.layers import Input,Activation,Add\n",
        "\n",
        "from tensorflow.keras.models import Model\n",
        "\n",
        "from tensorflow.keras.regularizers import l2\n",
        "\n",
        "from tensorflow.keras.optimizers import Adam"
      ],
      "execution_count": null,
      "outputs": []
    },
    {
      "cell_type": "code",
      "metadata": {
        "id": "JOdaNcplzy8T"
      },
      "source": [
        "def Convolution(input_tensor,filters):\n",
        "\n",
        "    x = Conv2D(filters=filters,kernel_size=(3, 3),padding = 'same',strides=(1, 1),kernel_regularizer=l2(0.001))(input_tensor)\n",
        "\n",
        "    x = Dropout(0.1)(x)\n",
        "\n",
        "    x= Activation('relu')(x)\n",
        "\n",
        "    return x\n",
        "\n",
        "def model(input_shape):\n",
        "\n",
        "  inputs = Input((input_shape))\n",
        "\n",
        "  conv_1= Convolution(inputs,32)\n",
        "\n",
        "  maxp_1 = MaxPooling2D(pool_size = (2,2)) (conv_1)\n",
        "\n",
        "  conv_2 = Convolution(maxp_1,64)\n",
        "\n",
        "  maxp_2 = MaxPooling2D(pool_size = (2, 2)) (conv_2)\n",
        "\n",
        "  conv_3 = Convolution(maxp_2,128)\n",
        "\n",
        "  maxp_3 = MaxPooling2D(pool_size = (2, 2)) (conv_3)\n",
        "\n",
        "  conv_4 = Convolution(maxp_3,256)\n",
        "\n",
        "  maxp_4 = MaxPooling2D(pool_size = (2, 2)) (conv_4)\n",
        "\n",
        "  flatten= Flatten() (maxp_4)\n",
        "\n",
        "  dense_1= Dense(64,activation='relu')(flatten)\n",
        "\n",
        "  dense_2= Dense(64,activation='relu')(flatten)\n",
        "\n",
        "  drop_1=Dropout(0.2)(dense_1)\n",
        "\n",
        "  drop_2=Dropout(0.2)(dense_2)\n",
        "\n",
        "  output_1= Dense(1,activation=\"sigmoid\",name='sex_out')(drop_1)\n",
        "\n",
        "  output_2= Dense(1,activation=\"relu\",name='age_out')(drop_2)\n",
        "\n",
        "  model = Model(inputs=[inputs], outputs=[output_1,output_2])\n",
        "\n",
        "  model.compile(loss=[\"binary_crossentropy\",\"mae\"], optimizer=\"Adam\",\n",
        "\n",
        "  metrics=[\"accuracy\"])\n",
        "\n",
        "  return model"
      ],
      "execution_count": null,
      "outputs": []
    },
    {
      "cell_type": "code",
      "metadata": {
        "id": "mlaQMDR3z-eG"
      },
      "source": [
        "Model=model((48,48,1))\n",
        "Model.summary()"
      ],
      "execution_count": null,
      "outputs": []
    },
    {
      "cell_type": "code",
      "metadata": {
        "id": "ljDeJR6z0QhD"
      },
      "source": [
        "History=Model.fit(X_train,Y_train_2,batch_size=64,validation_data=(X_test,Y_test_2),epochs=5)"
      ],
      "execution_count": null,
      "outputs": []
    }
  ]
}