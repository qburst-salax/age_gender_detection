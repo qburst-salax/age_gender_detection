{
  "nbformat": 4,
  "nbformat_minor": 0,
  "metadata": {
    "colab": {
      "name": "AGEGENDER.ipynb",
      "provenance": [],
      "mount_file_id": "1jHw-oOixikcGNB8QiBzwy8Tl_ISBIGAJ",
      "authorship_tag": "ABX9TyO1gtb1FbdYg+PsZxmQMCoI",
      "include_colab_link": true
    },
    "kernelspec": {
      "name": "python3",
      "display_name": "Python 3"
    },
    "language_info": {
      "name": "python"
    }
  },
  "cells": [
    {
      "cell_type": "markdown",
      "metadata": {
        "id": "view-in-github",
        "colab_type": "text"
      },
      "source": [
        "<a href=\"https://colab.research.google.com/github/salaxqb/age_gender_detection/blob/main/AGEGENDER.ipynb\" target=\"_parent\"><img src=\"https://colab.research.google.com/assets/colab-badge.svg\" alt=\"Open In Colab\"/></a>"
      ]
    },
    {
      "cell_type": "code",
      "metadata": {
        "id": "brkA-uYSR_ug"
      },
      "source": [
        "import keras\n",
        "import json\n",
        "import sys\n",
        "import tensorflow as tf\n",
        "from keras.layers import Input\n",
        "import numpy as np\n",
        "import argparse\n",
        "from keras.utils.data_utils import get_file\n"
      ],
      "execution_count": 1,
      "outputs": []
    },
    {
      "cell_type": "code",
      "metadata": {
        "id": "WlJG-8IvTWZ7",
        "colab": {
          "base_uri": "https://localhost:8080/",
          "height": 265
        },
        "outputId": "edbbc7d6-6a44-4d61-8ae3-497b32d786a8"
      },
      "source": [
        "import pandas as pd\n",
        "import matplotlib.pyplot as plt\n",
        "import seaborn as sns\n",
        "import cv2\n",
        "from PIL import Image\n",
        "df=pd.read_csv(\"/content/drive/MyDrive/age_gender.csv\")\n",
        "df.head()\n",
        "df1= pd.DataFrame(df)\n",
        "df1['pixels'] = df1.pixels.apply(lambda x: np.reshape(np.array(x.split(' '),dtype='float32'),(48,48)))\n",
        "df1['pixels']= df1['pixels']/255\n",
        "im = df1['pixels'][1]\n",
        "im\n",
        "plt.imshow(im, cmap='gray')\n",
        "plt.axis('off')"
      ],
      "execution_count": 2,
      "outputs": [
        {
          "output_type": "execute_result",
          "data": {
            "text/plain": [
              "(-0.5, 47.5, 47.5, -0.5)"
            ]
          },
          "metadata": {},
          "execution_count": 2
        },
        {
          "output_type": "display_data",
          "data": {
            "image/png": "[encoded data removed]",
            "text/plain": [
              "<Figure size 432x288 with 1 Axes>"
            ]
          },
          "metadata": {
            "needs_background": "light"
          }
        }
      ]
    },
    {
      "cell_type": "code",
      "metadata": {
        "id": "PtDr3pp6TfTf"
      },
      "source": [
        "X = np.zeros(shape=(23705,48,48))\n",
        "for i in range(len(df1[\"pixels\"])):\n",
        "    X[i] = df1[\"pixels\"][i]\n",
        "X.dtype\n",
        "ag = df1['age']\n",
        "ag=ag.astype(float)\n",
        "ag= np.array(ag)"
      ],
      "execution_count": 3,
      "outputs": []
    },
    {
      "cell_type": "code",
      "metadata": {
        "id": "BwGJ2MWcwGsf"
      },
      "source": [
        "g= df1['gender']\n",
        "g=np.array(g)"
      ],
      "execution_count": 4,
      "outputs": []
    },
    {
      "cell_type": "code",
      "metadata": {
        "id": "69Xf529-wH8S"
      },
      "source": [
        "labels_f =[]\n",
        "\n",
        "i=0\n",
        "\n",
        "while i <len(ag):\n",
        "\n",
        "  label=[]\n",
        "\n",
        "  label.append([ag[i]])\n",
        "\n",
        "  label.append([g[i]])\n",
        "\n",
        "  labels_f.append(label)\n",
        "\n",
        "  i+=1\n",
        "\n",
        "labels_f =np.array(labels_f)\n"
      ],
      "execution_count": 5,
      "outputs": []
    },
    {
      "cell_type": "code",
      "metadata": {
        "id": "XhjDfNw1yOzS"
      },
      "source": [
        "from sklearn.model_selection import train_test_split"
      ],
      "execution_count": 6,
      "outputs": []
    },
    {
      "cell_type": "code",
      "metadata": {
        "id": "IZtF6TH-yXzR"
      },
      "source": [
        "X_train, X_test, Y_train, Y_test= train_test_split(X,labels_f,test_size=0.25)\n"
      ],
      "execution_count": 7,
      "outputs": []
    },
    {
      "cell_type": "code",
      "metadata": {
        "id": "qq0gxOmcy99F"
      },
      "source": [
        "Y_train_2=[Y_train[:,1],Y_train[:,0]]\n",
        "Y_test_2=[Y_test[:,1],Y_test[:,0]]"
      ],
      "execution_count": 8,
      "outputs": []
    },
    {
      "cell_type": "code",
      "metadata": {
        "id": "cxYPq0Zuzkak"
      },
      "source": [
        "from tensorflow.keras.layers import Dropout\n",
        "\n",
        "from tensorflow.keras.layers import Flatten,BatchNormalization\n",
        "\n",
        "from tensorflow.keras.layers import Dense, MaxPooling2D,Conv2D\n",
        "\n",
        "from tensorflow.keras.layers import Input,Activation,Add\n",
        "\n",
        "from tensorflow.keras.models import Model\n",
        "\n",
        "from tensorflow.keras.regularizers import l2\n",
        "\n",
        "from tensorflow.keras.optimizers import Adam"
      ],
      "execution_count": 9,
      "outputs": []
    },
    {
      "cell_type": "code",
      "metadata": {
        "id": "JOdaNcplzy8T"
      },
      "source": [
        "def Convolution(input_tensor,filters):\n",
        "\n",
        "    x = Conv2D(filters=filters,kernel_size=(3, 3),padding = 'same',strides=(1, 1),kernel_regularizer=l2(0.001))(input_tensor)\n",
        "\n",
        "    x = Dropout(0.1)(x)\n",
        "\n",
        "    x= Activation('relu')(x)\n",
        "\n",
        "    return x\n",
        "\n",
        "def model(input_shape):\n",
        "\n",
        "  inputs = Input((input_shape))\n",
        "\n",
        "  conv_1= Convolution(inputs,32)\n",
        "\n",
        "  maxp_1 = MaxPooling2D(pool_size = (2,2)) (conv_1)\n",
        "\n",
        "  conv_2 = Convolution(maxp_1,64)\n",
        "\n",
        "  maxp_2 = MaxPooling2D(pool_size = (2, 2)) (conv_2)\n",
        "\n",
        "  conv_3 = Convolution(maxp_2,128)\n",
        "\n",
        "  maxp_3 = MaxPooling2D(pool_size = (2, 2)) (conv_3)\n",
        "\n",
        "  conv_4 = Convolution(maxp_3,256)\n",
        "\n",
        "  maxp_4 = MaxPooling2D(pool_size = (2, 2)) (conv_4)\n",
        "\n",
        "  flatten= Flatten() (maxp_4)\n",
        "\n",
        "  dense_1= Dense(64,activation='relu')(flatten)\n",
        "\n",
        "  dense_2= Dense(64,activation='relu')(flatten)\n",
        "\n",
        "  drop_1=Dropout(0.2)(dense_1)\n",
        "\n",
        "  drop_2=Dropout(0.2)(dense_2)\n",
        "\n",
        "  output_1= Dense(1,activation=\"sigmoid\",name='sex_out')(drop_1)\n",
        "\n",
        "  output_2= Dense(1,activation=\"relu\",name='age_out')(drop_2)\n",
        "\n",
        "  model = Model(inputs=[inputs], outputs=[output_1,output_2])\n",
        "\n",
        "  model.compile(loss=[\"binary_crossentropy\",\"mae\"], optimizer=\"Adam\",\n",
        "\n",
        "  metrics=[\"accuracy\"])\n",
        "\n",
        "  return model"
      ],
      "execution_count": 10,
      "outputs": []
    },
    {
      "cell_type": "code",
      "metadata": {
        "id": "mlaQMDR3z-eG",
        "colab": {
          "base_uri": "https://localhost:8080/"
        },
        "outputId": "d082c589-c9fd-4f88-e0bf-3c3dfcd89402"
      },
      "source": [
        "Model=model((48,48,1))\n",
        "Model.summary()"
      ],
      "execution_count": 11,
      "outputs": [
        {
          "output_type": "stream",
          "text": [
            "Model: \"model\"\n",
            "__________________________________________________________________________________________________\n",
            "Layer (type)                    Output Shape         Param #     Connected to                     \n",
            "==================================================================================================\n",
            "input_1 (InputLayer)            [(None, 48, 48, 1)]  0                                            \n",
            "__________________________________________________________________________________________________\n",
            "conv2d (Conv2D)                 (None, 48, 48, 32)   320         input_1[0][0]                    \n",
            "__________________________________________________________________________________________________\n",
            "dropout (Dropout)               (None, 48, 48, 32)   0           conv2d[0][0]                     \n",
            "__________________________________________________________________________________________________\n",
            "activation (Activation)         (None, 48, 48, 32)   0           dropout[0][0]                    \n",
            "__________________________________________________________________________________________________\n",
            "max_pooling2d (MaxPooling2D)    (None, 24, 24, 32)   0           activation[0][0]                 \n",
            "__________________________________________________________________________________________________\n",
            "conv2d_1 (Conv2D)               (None, 24, 24, 64)   18496       max_pooling2d[0][0]              \n",
            "__________________________________________________________________________________________________\n",
            "dropout_1 (Dropout)             (None, 24, 24, 64)   0           conv2d_1[0][0]                   \n",
            "__________________________________________________________________________________________________\n",
            "activation_1 (Activation)       (None, 24, 24, 64)   0           dropout_1[0][0]                  \n",
            "__________________________________________________________________________________________________\n",
            "max_pooling2d_1 (MaxPooling2D)  (None, 12, 12, 64)   0           activation_1[0][0]               \n",
            "__________________________________________________________________________________________________\n",
            "conv2d_2 (Conv2D)               (None, 12, 12, 128)  73856       max_pooling2d_1[0][0]            \n",
            "__________________________________________________________________________________________________\n",
            "dropout_2 (Dropout)             (None, 12, 12, 128)  0           conv2d_2[0][0]                   \n",
            "__________________________________________________________________________________________________\n",
            "activation_2 (Activation)       (None, 12, 12, 128)  0           dropout_2[0][0]                  \n",
            "__________________________________________________________________________________________________\n",
            "max_pooling2d_2 (MaxPooling2D)  (None, 6, 6, 128)    0           activation_2[0][0]               \n",
            "__________________________________________________________________________________________________\n",
            "conv2d_3 (Conv2D)               (None, 6, 6, 256)    295168      max_pooling2d_2[0][0]            \n",
            "__________________________________________________________________________________________________\n",
            "dropout_3 (Dropout)             (None, 6, 6, 256)    0           conv2d_3[0][0]                   \n",
            "__________________________________________________________________________________________________\n",
            "activation_3 (Activation)       (None, 6, 6, 256)    0           dropout_3[0][0]                  \n",
            "__________________________________________________________________________________________________\n",
            "max_pooling2d_3 (MaxPooling2D)  (None, 3, 3, 256)    0           activation_3[0][0]               \n",
            "__________________________________________________________________________________________________\n",
            "flatten (Flatten)               (None, 2304)         0           max_pooling2d_3[0][0]            \n",
            "__________________________________________________________________________________________________\n",
            "dense (Dense)                   (None, 64)           147520      flatten[0][0]                    \n",
            "__________________________________________________________________________________________________\n",
            "dense_1 (Dense)                 (None, 64)           147520      flatten[0][0]                    \n",
            "__________________________________________________________________________________________________\n",
            "dropout_4 (Dropout)             (None, 64)           0           dense[0][0]                      \n",
            "__________________________________________________________________________________________________\n",
            "dropout_5 (Dropout)             (None, 64)           0           dense_1[0][0]                    \n",
            "__________________________________________________________________________________________________\n",
            "sex_out (Dense)                 (None, 1)            65          dropout_4[0][0]                  \n",
            "__________________________________________________________________________________________________\n",
            "age_out (Dense)                 (None, 1)            65          dropout_5[0][0]                  \n",
            "==================================================================================================\n",
            "Total params: 683,010\n",
            "Trainable params: 683,010\n",
            "Non-trainable params: 0\n",
            "__________________________________________________________________________________________________\n"
          ],
          "name": "stdout"
        }
      ]
    },
    {
      "cell_type": "code",
      "metadata": {
        "id": "ljDeJR6z0QhD",
        "colab": {
          "base_uri": "https://localhost:8080/"
        },
        "outputId": "228984e1-9b6c-473e-957a-9a0cd00250ff"
      },
      "source": [
        "History=Model.fit(X_train,Y_train_2,batch_size=64,validation_data=(X_test,Y_test_2),epochs=5)"
      ],
      "execution_count": 12,
      "outputs": [
        {
          "output_type": "stream",
          "text": [
            "Epoch 1/5\n",
            "278/278 [==============================] - 139s 495ms/step - loss: 17.1784 - sex_out_loss: 0.6937 - age_out_loss: 16.3041 - sex_out_accuracy: 0.5341 - age_out_accuracy: 0.0449 - val_loss: 17.3126 - val_sex_out_loss: 0.6901 - val_age_out_loss: 16.4606 - val_sex_out_accuracy: 0.5180 - val_age_out_accuracy: 0.0531\n",
            "Epoch 2/5\n",
            "278/278 [==============================] - 137s 494ms/step - loss: 15.4254 - sex_out_loss: 0.6795 - age_out_loss: 14.5741 - sex_out_accuracy: 0.5460 - age_out_accuracy: 0.0454 - val_loss: 16.2414 - val_sex_out_loss: 0.6321 - val_age_out_loss: 15.3995 - val_sex_out_accuracy: 0.6998 - val_age_out_accuracy: 0.0531\n",
            "Epoch 3/5\n",
            "278/278 [==============================] - 138s 495ms/step - loss: 12.7613 - sex_out_loss: 0.5992 - age_out_loss: 11.9031 - sex_out_accuracy: 0.6549 - age_out_accuracy: 0.0429 - val_loss: 15.4542 - val_sex_out_loss: 0.5626 - val_age_out_loss: 14.6015 - val_sex_out_accuracy: 0.7223 - val_age_out_accuracy: 0.0479\n",
            "Epoch 4/5\n",
            "278/278 [==============================] - 137s 493ms/step - loss: 11.3142 - sex_out_loss: 0.5653 - age_out_loss: 10.4375 - sex_out_accuracy: 0.7019 - age_out_accuracy: 0.0418 - val_loss: 12.7944 - val_sex_out_loss: 0.5582 - val_age_out_loss: 11.9066 - val_sex_out_accuracy: 0.7260 - val_age_out_accuracy: 0.0425\n",
            "Epoch 5/5\n",
            "278/278 [==============================] - 137s 492ms/step - loss: 10.5953 - sex_out_loss: 0.5419 - age_out_loss: 9.7084 - sex_out_accuracy: 0.7270 - age_out_accuracy: 0.0412 - val_loss: 11.5343 - val_sex_out_loss: 0.5206 - val_age_out_loss: 10.6564 - val_sex_out_accuracy: 0.7474 - val_age_out_accuracy: 0.0525\n"
          ],
          "name": "stdout"
        }
      ]
    },
    {
      "cell_type": "code",
      "metadata": {
        "colab": {
          "base_uri": "https://localhost:8080/"
        },
        "id": "z5acoJY9qoOr",
        "outputId": "89a01a55-c720-464a-8919-09031606d288"
      },
      "source": [
        "Model.evaluate(X_test,Y_test_2)"
      ],
      "execution_count": 13,
      "outputs": [
        {
          "output_type": "stream",
          "text": [
            "186/186 [==============================] - 9s 47ms/step - loss: 11.5343 - sex_out_loss: 0.5206 - age_out_loss: 10.6564 - sex_out_accuracy: 0.7474 - age_out_accuracy: 0.0525\n"
          ],
          "name": "stdout"
        },
        {
          "output_type": "execute_result",
          "data": {
            "text/plain": [
              "[11.534280776977539,\n",
              " 0.5206249356269836,\n",
              " 10.656378746032715,\n",
              " 0.7474270462989807,\n",
              " 0.05247173830866814]"
            ]
          },
          "metadata": {},
          "execution_count": 13
        }
      ]
    },
    {
      "cell_type": "code",
      "metadata": {
        "colab": {
          "base_uri": "https://localhost:8080/"
        },
        "id": "umwzK4Bnq3YS",
        "outputId": "ff2f02d8-53bd-42e8-ea6e-db85e55a406f"
      },
      "source": [
        "pred=Model.predict(X_test)\n",
        "pred[1]"
      ],
      "execution_count": 14,
      "outputs": [
        {
          "output_type": "execute_result",
          "data": {
            "text/plain": [
              "array([[43.90391 ],\n",
              "       [27.81261 ],\n",
              "       [22.928574],\n",
              "       ...,\n",
              "       [28.99001 ],\n",
              "       [27.110086],\n",
              "       [21.62365 ]], dtype=float32)"
            ]
          },
          "metadata": {},
          "execution_count": 14
        }
      ]
    },
    {
      "cell_type": "code",
      "metadata": {
        "colab": {
          "base_uri": "https://localhost:8080/",
          "height": 301
        },
        "id": "WWQ3iyqQq82L",
        "outputId": "af1af58b-bbda-4ed7-b917-8ab90524c8be"
      },
      "source": [
        "def test_image(ind,X,Model):\n",
        "\n",
        "  plt.imshow(X[ind])\n",
        "\n",
        "  image_test=X[ind]\n",
        "\n",
        "  pred_1=Model.predict(np.array([image_test]))\n",
        "\n",
        "  sex_f=['Female','Male']\n",
        "\n",
        "  age=int(np.round(pred_1[1][0]))\n",
        "\n",
        "  sex=int(np.round(pred_1[0][0]))\n",
        "\n",
        "  print(\"Predicted Age: \"+ str(age))\n",
        "\n",
        "  print(\"Predicted Sex: \"+ sex_f[sex])\n",
        "\n",
        "test_image(1922,X, Model)"
      ],
      "execution_count": 19,
      "outputs": [
        {
          "output_type": "stream",
          "text": [
            "Predicted Age: 23\n",
            "Predicted Sex: Male\n"
          ],
          "name": "stdout"
        },
        {
          "output_type": "display_data",
          "data": {
            "image/png": "[encoded data removed]",
            "text/plain": [
              "<Figure size 432x288 with 1 Axes>"
            ]
          },
          "metadata": {
            "needs_background": "light"
          }
        }
      ]
    }
  ]
}